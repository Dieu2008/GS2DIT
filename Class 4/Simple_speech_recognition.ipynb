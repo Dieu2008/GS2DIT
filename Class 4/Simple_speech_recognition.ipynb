{
  "cells": [
    {
      "cell_type": "markdown",
      "metadata": {
        "id": "view-in-github",
        "colab_type": "text"
      },
      "source": [
        "<a href=\"https://colab.research.google.com/github/Dieu2008/GS2DIT/blob/main/Class%204/Simple_speech_recognition.ipynb\" target=\"_parent\"><img src=\"https://colab.research.google.com/assets/colab-badge.svg\" alt=\"Open In Colab\"/></a>"
      ]
    },
    {
      "cell_type": "markdown",
      "source": [
        "Code source: https://colab.research.google.com/github/tensorflow/docs/blob/master/site/en/tutorials/audio/simple_audio.ipynb#scrollTo=wTAg4vsn3oEb"
      ],
      "metadata": {
        "id": "B81jKekEobND"
      }
    },
    {
      "cell_type": "markdown",
      "metadata": {
        "id": "fluF3_oOgkWF"
      },
      "source": [
        "##### Copyright 2020 The TensorFlow Authors."
      ]
    },
    {
      "cell_type": "code",
      "execution_count": 1,
      "metadata": {
        "cellView": "form",
        "id": "AJs7HHFmg1M9"
      },
      "outputs": [],
      "source": [
        "#@title Licensed under the Apache License, Version 2.0 (the \"License\");\n",
        "# you may not use this file except in compliance with the License.\n",
        "# You may obtain a copy of the License at\n",
        "#\n",
        "# https://www.apache.org/licenses/LICENSE-2.0\n",
        "#\n",
        "# Unless required by applicable law or agreed to in writing, software\n",
        "# distributed under the License is distributed on an \"AS IS\" BASIS,\n",
        "# WITHOUT WARRANTIES OR CONDITIONS OF ANY KIND, either express or implied.\n",
        "# See the License for the specific language governing permissions and\n",
        "# limitations under the License."
      ]
    },
    {
      "cell_type": "markdown",
      "metadata": {
        "id": "jYysdyb-CaWM"
      },
      "source": [
        "# Simple audio recognition: Recognizing keywords"
      ]
    },
    {
      "cell_type": "markdown",
      "metadata": {
        "id": "CNbqmZy0gbyE"
      },
      "source": [
        "<table class=\"tfo-notebook-buttons\" align=\"left\">\n",
        "  <td>\n",
        "    <a target=\"_blank\" href=\"https://colab.research.google.com/drive/1Ga0X5AwxcpYIH55vgMxBawa9_tjW7KIL#scrollTo=CNbqmZy0gbyE\">\n",
        "    <img src=\"https://www.tensorflow.org/images/colab_logo_32px.png\" />\n",
        "    Run in Google Colab</a>\n",
        "  </td>\n",
        "</table>"
      ]
    },
    {
      "cell_type": "markdown",
      "metadata": {
        "id": "SPfDNFlb66XF"
      },
      "source": [
        "This tutorial demonstrates how to preprocess audio files in the WAV format and build and train a basic [automatic speech recognition](https://en.wikipedia.org/wiki/Speech_recognition) (ASR) model for recognizing ten different words. You will use a portion of the [Speech Commands dataset](https://www.tensorflow.org/datasets/catalog/speech_commands) ([Warden, 2018](https://arxiv.org/abs/1804.03209)), which contains short (one-second or less) audio clips of commands, such as \"down\", \"go\", \"left\", \"no\", \"right\", \"stop\", \"up\" and \"yes\"."
      ]
    },
    {
      "cell_type": "markdown",
      "metadata": {
        "id": "Go9C3uLL8Izc"
      },
      "source": [
        "## Setup\n",
        "\n",
        "Download and install necessary dependencies"
      ]
    },
    {
      "cell_type": "code",
      "source": [
        "!pip install tensorflow==2.10 tensorflow_datasets\n",
        "!apt install --allow-change-held-packages libcudnn8=8.1.0.77-1+cuda11.2"
      ],
      "metadata": {
        "id": "2tuvqtpIzKXK",
        "outputId": "8ac62680-d494-4ab0-e694-339589de6980",
        "colab": {
          "base_uri": "https://localhost:8080/",
          "height": 1000
        }
      },
      "execution_count": 2,
      "outputs": [
        {
          "output_type": "stream",
          "name": "stdout",
          "text": [
            "Looking in indexes: https://pypi.org/simple, https://us-python.pkg.dev/colab-wheels/public/simple/\n",
            "Collecting tensorflow==2.10\n",
            "  Downloading tensorflow-2.10.0-cp39-cp39-manylinux_2_17_x86_64.manylinux2014_x86_64.whl (578.1 MB)\n",
            "\u001b[2K     \u001b[90m━━━━━━━━━━━━━━━━━━━━━━━━━━━━━━━━━━━━━━━\u001b[0m \u001b[32m578.1/578.1 MB\u001b[0m \u001b[31m2.1 MB/s\u001b[0m eta \u001b[36m0:00:00\u001b[0m\n",
            "\u001b[?25hRequirement already satisfied: tensorflow_datasets in /usr/local/lib/python3.9/dist-packages (4.8.3)\n",
            "Requirement already satisfied: termcolor>=1.1.0 in /usr/local/lib/python3.9/dist-packages (from tensorflow==2.10) (2.2.0)\n",
            "Collecting keras-preprocessing>=1.1.1\n",
            "  Downloading Keras_Preprocessing-1.1.2-py2.py3-none-any.whl (42 kB)\n",
            "\u001b[2K     \u001b[90m━━━━━━━━━━━━━━━━━━━━━━━━━━━━━━━━━━━━━━━━\u001b[0m \u001b[32m42.6/42.6 KB\u001b[0m \u001b[31m4.0 MB/s\u001b[0m eta \u001b[36m0:00:00\u001b[0m\n",
            "\u001b[?25hRequirement already satisfied: grpcio<2.0,>=1.24.3 in /usr/local/lib/python3.9/dist-packages (from tensorflow==2.10) (1.53.0)\n",
            "Requirement already satisfied: wrapt>=1.11.0 in /usr/local/lib/python3.9/dist-packages (from tensorflow==2.10) (1.14.1)\n",
            "Requirement already satisfied: h5py>=2.9.0 in /usr/local/lib/python3.9/dist-packages (from tensorflow==2.10) (3.8.0)\n",
            "Requirement already satisfied: six>=1.12.0 in /usr/local/lib/python3.9/dist-packages (from tensorflow==2.10) (1.16.0)\n",
            "Requirement already satisfied: packaging in /usr/local/lib/python3.9/dist-packages (from tensorflow==2.10) (23.0)\n",
            "Requirement already satisfied: astunparse>=1.6.0 in /usr/local/lib/python3.9/dist-packages (from tensorflow==2.10) (1.6.3)\n",
            "Collecting tensorboard<2.11,>=2.10\n",
            "  Downloading tensorboard-2.10.1-py3-none-any.whl (5.9 MB)\n",
            "\u001b[2K     \u001b[90m━━━━━━━━━━━━━━━━━━━━━━━━━━━━━━━━━━━━━━━━\u001b[0m \u001b[32m5.9/5.9 MB\u001b[0m \u001b[31m49.4 MB/s\u001b[0m eta \u001b[36m0:00:00\u001b[0m\n",
            "\u001b[?25hRequirement already satisfied: numpy>=1.20 in /usr/local/lib/python3.9/dist-packages (from tensorflow==2.10) (1.22.4)\n",
            "Requirement already satisfied: tensorflow-io-gcs-filesystem>=0.23.1 in /usr/local/lib/python3.9/dist-packages (from tensorflow==2.10) (0.32.0)\n",
            "Requirement already satisfied: opt-einsum>=2.3.2 in /usr/local/lib/python3.9/dist-packages (from tensorflow==2.10) (3.3.0)\n",
            "Requirement already satisfied: flatbuffers>=2.0 in /usr/local/lib/python3.9/dist-packages (from tensorflow==2.10) (23.3.3)\n",
            "Requirement already satisfied: gast<=0.4.0,>=0.2.1 in /usr/local/lib/python3.9/dist-packages (from tensorflow==2.10) (0.4.0)\n",
            "Requirement already satisfied: typing-extensions>=3.6.6 in /usr/local/lib/python3.9/dist-packages (from tensorflow==2.10) (4.5.0)\n",
            "Requirement already satisfied: google-pasta>=0.1.1 in /usr/local/lib/python3.9/dist-packages (from tensorflow==2.10) (0.2.0)\n",
            "Requirement already satisfied: absl-py>=1.0.0 in /usr/local/lib/python3.9/dist-packages (from tensorflow==2.10) (1.4.0)\n",
            "Collecting protobuf<3.20,>=3.9.2\n",
            "  Downloading protobuf-3.19.6-cp39-cp39-manylinux_2_17_x86_64.manylinux2014_x86_64.whl (1.1 MB)\n",
            "\u001b[2K     \u001b[90m━━━━━━━━━━━━━━━━━━━━━━━━━━━━━━━━━━━━━━━━\u001b[0m \u001b[32m1.1/1.1 MB\u001b[0m \u001b[31m39.9 MB/s\u001b[0m eta \u001b[36m0:00:00\u001b[0m\n",
            "\u001b[?25hCollecting tensorflow-estimator<2.11,>=2.10.0\n",
            "  Downloading tensorflow_estimator-2.10.0-py2.py3-none-any.whl (438 kB)\n",
            "\u001b[2K     \u001b[90m━━━━━━━━━━━━━━━━━━━━━━━━━━━━━━━━━━━━━━\u001b[0m \u001b[32m438.7/438.7 KB\u001b[0m \u001b[31m43.6 MB/s\u001b[0m eta \u001b[36m0:00:00\u001b[0m\n",
            "\u001b[?25hCollecting keras<2.11,>=2.10.0\n",
            "  Downloading keras-2.10.0-py2.py3-none-any.whl (1.7 MB)\n",
            "\u001b[2K     \u001b[90m━━━━━━━━━━━━━━━━━━━━━━━━━━━━━━━━━━━━━━━━\u001b[0m \u001b[32m1.7/1.7 MB\u001b[0m \u001b[31m93.0 MB/s\u001b[0m eta \u001b[36m0:00:00\u001b[0m\n",
            "\u001b[?25hRequirement already satisfied: setuptools in /usr/local/lib/python3.9/dist-packages (from tensorflow==2.10) (67.6.1)\n",
            "Requirement already satisfied: libclang>=13.0.0 in /usr/local/lib/python3.9/dist-packages (from tensorflow==2.10) (16.0.0)\n",
            "Requirement already satisfied: requests>=2.19.0 in /usr/local/lib/python3.9/dist-packages (from tensorflow_datasets) (2.27.1)\n",
            "Requirement already satisfied: tensorflow-metadata in /usr/local/lib/python3.9/dist-packages (from tensorflow_datasets) (1.12.0)\n",
            "Requirement already satisfied: tqdm in /usr/local/lib/python3.9/dist-packages (from tensorflow_datasets) (4.65.0)\n",
            "Requirement already satisfied: etils[enp,epath]>=0.9.0 in /usr/local/lib/python3.9/dist-packages (from tensorflow_datasets) (1.1.1)\n",
            "Requirement already satisfied: click in /usr/local/lib/python3.9/dist-packages (from tensorflow_datasets) (8.1.3)\n",
            "Requirement already satisfied: dm-tree in /usr/local/lib/python3.9/dist-packages (from tensorflow_datasets) (0.1.8)\n",
            "Requirement already satisfied: promise in /usr/local/lib/python3.9/dist-packages (from tensorflow_datasets) (2.3)\n",
            "Requirement already satisfied: toml in /usr/local/lib/python3.9/dist-packages (from tensorflow_datasets) (0.10.2)\n",
            "Requirement already satisfied: psutil in /usr/local/lib/python3.9/dist-packages (from tensorflow_datasets) (5.9.4)\n",
            "Requirement already satisfied: wheel<1.0,>=0.23.0 in /usr/local/lib/python3.9/dist-packages (from astunparse>=1.6.0->tensorflow==2.10) (0.40.0)\n",
            "Requirement already satisfied: zipp in /usr/local/lib/python3.9/dist-packages (from etils[enp,epath]>=0.9.0->tensorflow_datasets) (3.15.0)\n",
            "Requirement already satisfied: importlib_resources in /usr/local/lib/python3.9/dist-packages (from etils[enp,epath]>=0.9.0->tensorflow_datasets) (5.12.0)\n",
            "Requirement already satisfied: charset-normalizer~=2.0.0 in /usr/local/lib/python3.9/dist-packages (from requests>=2.19.0->tensorflow_datasets) (2.0.12)\n",
            "Requirement already satisfied: certifi>=2017.4.17 in /usr/local/lib/python3.9/dist-packages (from requests>=2.19.0->tensorflow_datasets) (2022.12.7)\n",
            "Requirement already satisfied: idna<4,>=2.5 in /usr/local/lib/python3.9/dist-packages (from requests>=2.19.0->tensorflow_datasets) (3.4)\n",
            "Requirement already satisfied: urllib3<1.27,>=1.21.1 in /usr/local/lib/python3.9/dist-packages (from requests>=2.19.0->tensorflow_datasets) (1.26.15)\n",
            "Requirement already satisfied: tensorboard-plugin-wit>=1.6.0 in /usr/local/lib/python3.9/dist-packages (from tensorboard<2.11,>=2.10->tensorflow==2.10) (1.8.1)\n",
            "Requirement already satisfied: markdown>=2.6.8 in /usr/local/lib/python3.9/dist-packages (from tensorboard<2.11,>=2.10->tensorflow==2.10) (3.4.3)\n",
            "Requirement already satisfied: werkzeug>=1.0.1 in /usr/local/lib/python3.9/dist-packages (from tensorboard<2.11,>=2.10->tensorflow==2.10) (2.2.3)\n",
            "Requirement already satisfied: google-auth-oauthlib<0.5,>=0.4.1 in /usr/local/lib/python3.9/dist-packages (from tensorboard<2.11,>=2.10->tensorflow==2.10) (0.4.6)\n",
            "Requirement already satisfied: google-auth<3,>=1.6.3 in /usr/local/lib/python3.9/dist-packages (from tensorboard<2.11,>=2.10->tensorflow==2.10) (2.17.1)\n",
            "Collecting tensorboard-data-server<0.7.0,>=0.6.0\n",
            "  Downloading tensorboard_data_server-0.6.1-py3-none-manylinux2010_x86_64.whl (4.9 MB)\n",
            "\u001b[2K     \u001b[90m━━━━━━━━━━━━━━━━━━━━━━━━━━━━━━━━━━━━━━━━\u001b[0m \u001b[32m4.9/4.9 MB\u001b[0m \u001b[31m99.9 MB/s\u001b[0m eta \u001b[36m0:00:00\u001b[0m\n",
            "\u001b[?25hRequirement already satisfied: googleapis-common-protos<2,>=1.52.0 in /usr/local/lib/python3.9/dist-packages (from tensorflow-metadata->tensorflow_datasets) (1.59.0)\n",
            "Requirement already satisfied: cachetools<6.0,>=2.0.0 in /usr/local/lib/python3.9/dist-packages (from google-auth<3,>=1.6.3->tensorboard<2.11,>=2.10->tensorflow==2.10) (5.3.0)\n",
            "Requirement already satisfied: rsa<5,>=3.1.4 in /usr/local/lib/python3.9/dist-packages (from google-auth<3,>=1.6.3->tensorboard<2.11,>=2.10->tensorflow==2.10) (4.9)\n",
            "Requirement already satisfied: pyasn1-modules>=0.2.1 in /usr/local/lib/python3.9/dist-packages (from google-auth<3,>=1.6.3->tensorboard<2.11,>=2.10->tensorflow==2.10) (0.2.8)\n",
            "Requirement already satisfied: requests-oauthlib>=0.7.0 in /usr/local/lib/python3.9/dist-packages (from google-auth-oauthlib<0.5,>=0.4.1->tensorboard<2.11,>=2.10->tensorflow==2.10) (1.3.1)\n",
            "Requirement already satisfied: importlib-metadata>=4.4 in /usr/local/lib/python3.9/dist-packages (from markdown>=2.6.8->tensorboard<2.11,>=2.10->tensorflow==2.10) (6.1.0)\n",
            "Requirement already satisfied: MarkupSafe>=2.1.1 in /usr/local/lib/python3.9/dist-packages (from werkzeug>=1.0.1->tensorboard<2.11,>=2.10->tensorflow==2.10) (2.1.2)\n",
            "Requirement already satisfied: pyasn1<0.5.0,>=0.4.6 in /usr/local/lib/python3.9/dist-packages (from pyasn1-modules>=0.2.1->google-auth<3,>=1.6.3->tensorboard<2.11,>=2.10->tensorflow==2.10) (0.4.8)\n",
            "Requirement already satisfied: oauthlib>=3.0.0 in /usr/local/lib/python3.9/dist-packages (from requests-oauthlib>=0.7.0->google-auth-oauthlib<0.5,>=0.4.1->tensorboard<2.11,>=2.10->tensorflow==2.10) (3.2.2)\n",
            "Installing collected packages: keras, tensorflow-estimator, tensorboard-data-server, protobuf, keras-preprocessing, tensorboard, tensorflow\n",
            "  Attempting uninstall: keras\n",
            "    Found existing installation: keras 2.12.0\n",
            "    Uninstalling keras-2.12.0:\n",
            "      Successfully uninstalled keras-2.12.0\n",
            "  Attempting uninstall: tensorflow-estimator\n",
            "    Found existing installation: tensorflow-estimator 2.12.0\n",
            "    Uninstalling tensorflow-estimator-2.12.0:\n",
            "      Successfully uninstalled tensorflow-estimator-2.12.0\n",
            "  Attempting uninstall: tensorboard-data-server\n",
            "    Found existing installation: tensorboard-data-server 0.7.0\n",
            "    Uninstalling tensorboard-data-server-0.7.0:\n",
            "      Successfully uninstalled tensorboard-data-server-0.7.0\n",
            "  Attempting uninstall: protobuf\n",
            "    Found existing installation: protobuf 3.20.3\n",
            "    Uninstalling protobuf-3.20.3:\n",
            "      Successfully uninstalled protobuf-3.20.3\n",
            "  Attempting uninstall: tensorboard\n",
            "    Found existing installation: tensorboard 2.12.0\n",
            "    Uninstalling tensorboard-2.12.0:\n",
            "      Successfully uninstalled tensorboard-2.12.0\n",
            "  Attempting uninstall: tensorflow\n",
            "    Found existing installation: tensorflow 2.12.0\n",
            "    Uninstalling tensorflow-2.12.0:\n",
            "      Successfully uninstalled tensorflow-2.12.0\n",
            "Successfully installed keras-2.10.0 keras-preprocessing-1.1.2 protobuf-3.19.6 tensorboard-2.10.1 tensorboard-data-server-0.6.1 tensorflow-2.10.0 tensorflow-estimator-2.10.0\n"
          ]
        },
        {
          "output_type": "display_data",
          "data": {
            "application/vnd.colab-display-data+json": {
              "pip_warning": {
                "packages": [
                  "google"
                ]
              }
            }
          },
          "metadata": {}
        },
        {
          "output_type": "stream",
          "name": "stdout",
          "text": [
            "Reading package lists... Done\n",
            "Building dependency tree       \n",
            "Reading state information... Done\n",
            "The following package was automatically installed and is no longer required:\n",
            "  libnvidia-common-525\n",
            "Use 'apt autoremove' to remove it.\n",
            "The following packages will be REMOVED:\n",
            "  libcudnn8-dev\n",
            "The following held packages will be changed:\n",
            "  libcudnn8\n",
            "The following packages will be DOWNGRADED:\n",
            "  libcudnn8\n",
            "0 upgraded, 0 newly installed, 1 downgraded, 1 to remove and 21 not upgraded.\n",
            "Need to get 430 MB of archives.\n",
            "After this operation, 1,153 MB disk space will be freed.\n",
            "Get:1 https://developer.download.nvidia.com/compute/cuda/repos/ubuntu2004/x86_64  libcudnn8 8.1.0.77-1+cuda11.2 [430 MB]\n",
            "Fetched 430 MB in 6s (67.0 MB/s)\n",
            "(Reading database ... 128293 files and directories currently installed.)\n",
            "Removing libcudnn8-dev (8.7.0.84-1+cuda11.8) ...\n",
            "update-alternatives: removing manually selected alternative - switching libcudnn to auto mode\n",
            "\u001b[1mdpkg:\u001b[0m \u001b[1;33mwarning:\u001b[0m downgrading libcudnn8 from 8.7.0.84-1+cuda11.8 to 8.1.0.77-1+cuda11.2\n",
            "(Reading database ... 128260 files and directories currently installed.)\n",
            "Preparing to unpack .../libcudnn8_8.1.0.77-1+cuda11.2_amd64.deb ...\n",
            "Unpacking libcudnn8 (8.1.0.77-1+cuda11.2) over (8.7.0.84-1+cuda11.8) ...\n",
            "Setting up libcudnn8 (8.1.0.77-1+cuda11.2) ...\n"
          ]
        }
      ]
    },
    {
      "cell_type": "code",
      "execution_count": 3,
      "metadata": {
        "id": "dzLKpmZICaWN"
      },
      "outputs": [],
      "source": [
        "import os\n",
        "import pathlib\n",
        "\n",
        "import matplotlib.pyplot as plt\n",
        "import numpy as np\n",
        "import seaborn as sns\n",
        "import tensorflow as tf\n",
        "\n",
        "from tensorflow.keras import layers\n",
        "from tensorflow.keras import models\n",
        "from IPython import display\n",
        "\n",
        "# Set the seed value for experiment reproducibility.\n",
        "seed = 42\n",
        "tf.random.set_seed(seed)\n",
        "np.random.seed(seed)"
      ]
    },
    {
      "cell_type": "markdown",
      "metadata": {
        "id": "yR0EdgrLCaWR"
      },
      "source": [
        "## Import the mini Speech Commands dataset\n",
        "\n",
        "To save time with data loading, you will be working with a smaller version of the Speech Commands dataset.\n",
        "Download and extract the `mini_speech_commands.zip` file containing the smaller Speech Commands datasets with `tf.keras.utils.get_file`:"
      ]
    },
    {
      "cell_type": "code",
      "execution_count": 4,
      "metadata": {
        "id": "2-rayb7-3Y0I",
        "outputId": "9b690f0d-3fb1-4cc4-a408-ece89f7a5a55",
        "colab": {
          "base_uri": "https://localhost:8080/"
        }
      },
      "outputs": [
        {
          "output_type": "stream",
          "name": "stdout",
          "text": [
            "Downloading data from http://storage.googleapis.com/download.tensorflow.org/data/mini_speech_commands.zip\n",
            "182082353/182082353 [==============================] - 1s 0us/step\n"
          ]
        }
      ],
      "source": [
        "DATASET_PATH = 'data/mini_speech_commands'\n",
        "\n",
        "data_dir = pathlib.Path(DATASET_PATH)\n",
        "if not data_dir.exists():\n",
        "  tf.keras.utils.get_file(\n",
        "      'mini_speech_commands.zip',\n",
        "      origin=\"http://storage.googleapis.com/download.tensorflow.org/data/mini_speech_commands.zip\",\n",
        "      extract=True,\n",
        "      cache_dir='.', cache_subdir='data')"
      ]
    },
    {
      "cell_type": "markdown",
      "metadata": {
        "id": "BgvFq3uYiS5G"
      },
      "source": [
        "The dataset's audio clips are stored in eight folders corresponding to each speech command: `no`, `yes`, `down`, `go`, `left`, `up`, `right`, and `stop`:"
      ]
    },
    {
      "cell_type": "code",
      "execution_count": 5,
      "metadata": {
        "id": "70IBxSKxA1N9",
        "outputId": "9f6527e2-8fde-4f97-c8ea-1683d9d705a1",
        "colab": {
          "base_uri": "https://localhost:8080/"
        }
      },
      "outputs": [
        {
          "output_type": "stream",
          "name": "stdout",
          "text": [
            "Commands: ['stop' 'up' 'right' 'left' 'no' 'down' 'go' 'yes']\n"
          ]
        }
      ],
      "source": [
        "commands = np.array(tf.io.gfile.listdir(str(data_dir)))\n",
        "commands = commands[(commands != 'README.md') & (commands != '.DS_Store')]\n",
        "print('Commands:', commands)"
      ]
    },
    {
      "cell_type": "markdown",
      "metadata": {
        "id": "TZ7GJjDvHqtt"
      },
      "source": [
        "Now we split the data into train and test datasets.\n",
        "\n",
        "The audio clips are 1 second or less at 16kHz."
      ]
    },
    {
      "cell_type": "code",
      "execution_count": 6,
      "metadata": {
        "id": "mFM4c3aMC8Qv",
        "outputId": "83be7818-b5af-4887-9f2a-00352457a224",
        "colab": {
          "base_uri": "https://localhost:8080/"
        }
      },
      "outputs": [
        {
          "output_type": "stream",
          "name": "stdout",
          "text": [
            "Found 8000 files belonging to 8 classes.\n",
            "Using 6400 files for training.\n",
            "Using 1600 files for validation.\n",
            "\n",
            "label names: ['down' 'go' 'left' 'no' 'right' 'stop' 'up' 'yes']\n"
          ]
        }
      ],
      "source": [
        "train_ds, val_ds = tf.keras.utils.audio_dataset_from_directory(\n",
        "    directory=data_dir,\n",
        "    batch_size=64,\n",
        "    validation_split=0.2,\n",
        "    seed=0,\n",
        "    output_sequence_length=16000,\n",
        "    subset='both')\n",
        "\n",
        "label_names = np.array(train_ds.class_names)\n",
        "print()\n",
        "print(\"label names:\", label_names)"
      ]
    },
    {
      "cell_type": "code",
      "execution_count": 7,
      "metadata": {
        "id": "Xl-tnniUIBlM"
      },
      "outputs": [],
      "source": [
        "def squeeze(audio, labels):\n",
        "  audio = tf.squeeze(audio, axis=-1)\n",
        "  return audio, labels\n",
        "\n",
        "train_ds = train_ds.map(squeeze, tf.data.AUTOTUNE)\n",
        "val_ds = val_ds.map(squeeze, tf.data.AUTOTUNE)"
      ]
    },
    {
      "cell_type": "markdown",
      "metadata": {
        "id": "DtsCSWZN5ILv"
      },
      "source": [
        "We have to split our calidation dataset into val and test set."
      ]
    },
    {
      "cell_type": "code",
      "execution_count": 8,
      "metadata": {
        "id": "u5UEGsqM5Gss"
      },
      "outputs": [],
      "source": [
        "test_ds = val_ds.shard(num_shards=2, index=0)\n",
        "val_ds = val_ds.shard(num_shards=2, index=1)"
      ]
    },
    {
      "cell_type": "code",
      "execution_count": 9,
      "metadata": {
        "id": "xIeoJcwJH5h9",
        "outputId": "4c5b750d-adb0-41f4-e937-f68501cd940d",
        "colab": {
          "base_uri": "https://localhost:8080/"
        }
      },
      "outputs": [
        {
          "output_type": "stream",
          "name": "stdout",
          "text": [
            "(64, 16000)\n",
            "(64,)\n"
          ]
        }
      ],
      "source": [
        "for example_audio, example_labels in train_ds.take(1):  \n",
        "  print(example_audio.shape)\n",
        "  print(example_labels.shape)"
      ]
    },
    {
      "cell_type": "markdown",
      "metadata": {
        "id": "voxGEwvuh2L7"
      },
      "source": [
        "Let's plot a few audio waveforms:"
      ]
    },
    {
      "cell_type": "markdown",
      "metadata": {
        "id": "EWXPphxm0B4m"
      },
      "source": [
        "## Convert waveforms to spectrograms\n",
        "\n",
        "The waveforms in the dataset are represented in the time domain. Next, you'll transform the waveforms from the time-domain signals into the time-frequency-domain signals by computing the [short-time Fourier transform (STFT)](https://en.wikipedia.org/wiki/Short-time_Fourier_transform) to convert the waveforms to as [spectrograms](https://en.wikipedia.org/wiki/Spectrogram), which show frequency changes over time and can be represented as 2D images."
      ]
    },
    {
      "cell_type": "code",
      "execution_count": 10,
      "metadata": {
        "id": "_4CK75DHz_OR"
      },
      "outputs": [],
      "source": [
        "def get_spectrogram(waveform):\n",
        "  # Convert the waveform to a spectrogram via a STFT.\n",
        "  spectrogram = tf.signal.stft(\n",
        "      waveform, frame_length=255, frame_step=128)\n",
        "  # Obtain the magnitude of the STFT.\n",
        "  spectrogram = tf.abs(spectrogram)\n",
        "  # Add a `channels` dimension, so that the spectrogram can be used\n",
        "  # as image-like input data with convolution layers (which expect\n",
        "  # shape (`batch_size`, `height`, `width`, `channels`).\n",
        "  spectrogram = spectrogram[..., tf.newaxis]\n",
        "  return spectrogram"
      ]
    },
    {
      "cell_type": "markdown",
      "metadata": {
        "id": "xnSuqyxJ1isF"
      },
      "source": [
        "Now, define a function for displaying a spectrogram:"
      ]
    },
    {
      "cell_type": "code",
      "execution_count": 11,
      "metadata": {
        "id": "e62jzb36-Jog"
      },
      "outputs": [],
      "source": [
        "#def plot_spectrogram(spectrogram, ax):\n",
        "#  if len(spectrogram.shape) > 2:\n",
        "#    assert len(spectrogram.shape) == 3\n",
        "#    spectrogram = np.squeeze(spectrogram, axis=-1)\n",
        "#  # Convert the frequencies to log scale and transpose, so that the time is\n",
        "#  # represented on the x-axis (columns).\n",
        "#  # Add an epsilon to avoid taking a log of zero.\n",
        "#  log_spec = np.log(spectrogram.T + np.finfo(float).eps)\n",
        "#  height = log_spec.shape[0]\n",
        "#  width = log_spec.shape[1]\n",
        "#  X = np.linspace(0, np.size(spectrogram), num=width, dtype=int)\n",
        "#  Y = range(height)\n",
        "#  ax.pcolormesh(X, Y, log_spec)"
      ]
    },
    {
      "cell_type": "markdown",
      "metadata": {
        "id": "GyYXjW07jCHA"
      },
      "source": [
        "Now, create spectrogramn datasets from the audio datasets:"
      ]
    },
    {
      "cell_type": "code",
      "execution_count": 12,
      "metadata": {
        "id": "mAD0LpkgqtQo"
      },
      "outputs": [],
      "source": [
        "def make_spec_ds(ds):\n",
        "  return ds.map(\n",
        "      map_func=lambda audio,label: (get_spectrogram(audio), label),\n",
        "      num_parallel_calls=tf.data.AUTOTUNE)"
      ]
    },
    {
      "cell_type": "code",
      "execution_count": 13,
      "metadata": {
        "id": "yEVb_oK0oBLQ"
      },
      "outputs": [],
      "source": [
        "train_spectrogram_ds = make_spec_ds(train_ds)\n",
        "val_spectrogram_ds = make_spec_ds(val_ds)\n",
        "test_spectrogram_ds = make_spec_ds(test_ds)"
      ]
    },
    {
      "cell_type": "code",
      "source": [
        "for example_spectrograms, example_spect_labels in train_spectrogram_ds.take(1):\n",
        "  break"
      ],
      "metadata": {
        "id": "Pp8S55hQuGgH"
      },
      "execution_count": 14,
      "outputs": []
    },
    {
      "cell_type": "markdown",
      "metadata": {
        "id": "z5KdY8IF8rkt"
      },
      "source": [
        "## Build and train the model"
      ]
    },
    {
      "cell_type": "code",
      "execution_count": 15,
      "metadata": {
        "id": "fdZ6M-F5_QzY"
      },
      "outputs": [],
      "source": [
        "train_spectrogram_ds = train_spectrogram_ds.cache().shuffle(10000).prefetch(tf.data.AUTOTUNE)\n",
        "val_spectrogram_ds = val_spectrogram_ds.cache().prefetch(tf.data.AUTOTUNE)\n",
        "test_spectrogram_ds = test_spectrogram_ds.cache().prefetch(tf.data.AUTOTUNE)"
      ]
    },
    {
      "cell_type": "markdown",
      "metadata": {
        "id": "rwHkKCQQb5oW"
      },
      "source": [
        "For the model, you'll use a simple convolutional neural network (CNN), since you have transformed the audio files into spectrogram images.\n",
        "\n",
        "Your `tf.keras.Sequential` model will use the following Keras preprocessing layers:\n",
        "\n",
        "- `tf.keras.layers.Resizing`: to downsample the input to enable the model to train faster.\n",
        "- `tf.keras.layers.Normalization`: to normalize each pixel in the image based on its mean and standard deviation."
      ]
    },
    {
      "cell_type": "code",
      "execution_count": 16,
      "metadata": {
        "id": "ALYz7PFCHblP",
        "outputId": "1f46fddc-a46f-43c6-e588-f1f34cebfaae",
        "colab": {
          "base_uri": "https://localhost:8080/"
        }
      },
      "outputs": [
        {
          "output_type": "stream",
          "name": "stdout",
          "text": [
            "Input shape: (124, 129, 1)\n",
            "Model: \"sequential\"\n",
            "_________________________________________________________________\n",
            " Layer (type)                Output Shape              Param #   \n",
            "=================================================================\n",
            " resizing (Resizing)         (None, 32, 32, 1)         0         \n",
            "                                                                 \n",
            " normalization (Normalizatio  (None, 32, 32, 1)        3         \n",
            " n)                                                              \n",
            "                                                                 \n",
            " conv2d (Conv2D)             (None, 30, 30, 32)        320       \n",
            "                                                                 \n",
            " conv2d_1 (Conv2D)           (None, 28, 28, 64)        18496     \n",
            "                                                                 \n",
            " max_pooling2d (MaxPooling2D  (None, 14, 14, 64)       0         \n",
            " )                                                               \n",
            "                                                                 \n",
            " dropout (Dropout)           (None, 14, 14, 64)        0         \n",
            "                                                                 \n",
            " flatten (Flatten)           (None, 12544)             0         \n",
            "                                                                 \n",
            " dense (Dense)               (None, 128)               1605760   \n",
            "                                                                 \n",
            " dropout_1 (Dropout)         (None, 128)               0         \n",
            "                                                                 \n",
            " dense_1 (Dense)             (None, 8)                 1032      \n",
            "                                                                 \n",
            "=================================================================\n",
            "Total params: 1,625,611\n",
            "Trainable params: 1,625,608\n",
            "Non-trainable params: 3\n",
            "_________________________________________________________________\n"
          ]
        }
      ],
      "source": [
        "input_shape = example_spectrograms.shape[1:]\n",
        "print('Input shape:', input_shape)\n",
        "num_labels = len(label_names)\n",
        "\n",
        "# Instantiate the `tf.keras.layers.Normalization` layer.\n",
        "norm_layer = layers.Normalization()\n",
        "# Fit the state of the layer to the spectrograms\n",
        "# with `Normalization.adapt`.\n",
        "norm_layer.adapt(data=train_spectrogram_ds.map(map_func=lambda spec, label: spec))\n",
        "\n",
        "model = models.Sequential([\n",
        "    tf.keras.layers.Input(shape=input_shape),\n",
        "    # Downsample the input.\n",
        "    tf.keras.layers.Resizing(32, 32),\n",
        "    # Normalize.\n",
        "    norm_layer,\n",
        "    tf.keras.layers.Conv2D(32, 3, activation='relu'),\n",
        "    tf.keras.layers.Conv2D(64, 3, activation='relu'),\n",
        "    tf.keras.layers.MaxPooling2D(),\n",
        "    tf.keras.layers.Dropout(0.25),\n",
        "    tf.keras.layers.Flatten(),\n",
        "    tf.keras.layers.Dense(128, activation='relu'),\n",
        "    tf.keras.layers.Dropout(0.5),\n",
        "    tf.keras.layers.Dense(num_labels),\n",
        "])\n",
        "\n",
        "model.summary()"
      ]
    },
    {
      "cell_type": "markdown",
      "metadata": {
        "id": "de52e5afa2f3"
      },
      "source": [
        "Configure the Keras model with the Adam optimizer and the cross-entropy loss:"
      ]
    },
    {
      "cell_type": "code",
      "execution_count": 17,
      "metadata": {
        "id": "wFjj7-EmsTD-"
      },
      "outputs": [],
      "source": [
        "model.compile(\n",
        "    optimizer=tf.keras.optimizers.Adam(),\n",
        "    loss=tf.keras.losses.SparseCategoricalCrossentropy(from_logits=True),\n",
        "    metrics=['accuracy'],\n",
        ")"
      ]
    },
    {
      "cell_type": "markdown",
      "metadata": {
        "id": "f42b9e3a4705"
      },
      "source": [
        "Train the model over 10 epochs for demonstration purposes:"
      ]
    },
    {
      "cell_type": "code",
      "execution_count": 18,
      "metadata": {
        "id": "ttioPJVMcGtq",
        "outputId": "c28a15dc-c9d3-468f-9c11-c7a88a654b3e",
        "colab": {
          "base_uri": "https://localhost:8080/"
        }
      },
      "outputs": [
        {
          "output_type": "stream",
          "name": "stdout",
          "text": [
            "Epoch 1/10\n",
            "100/100 [==============================] - 7s 20ms/step - loss: 1.7746 - accuracy: 0.3514 - val_loss: 1.3636 - val_accuracy: 0.5651\n",
            "Epoch 2/10\n",
            "100/100 [==============================] - 1s 7ms/step - loss: 1.2098 - accuracy: 0.5670 - val_loss: 0.9749 - val_accuracy: 0.7018\n",
            "Epoch 3/10\n",
            "100/100 [==============================] - 1s 8ms/step - loss: 0.9407 - accuracy: 0.6666 - val_loss: 0.7963 - val_accuracy: 0.7539\n",
            "Epoch 4/10\n",
            "100/100 [==============================] - 1s 8ms/step - loss: 0.7652 - accuracy: 0.7286 - val_loss: 0.6929 - val_accuracy: 0.7930\n",
            "Epoch 5/10\n",
            "100/100 [==============================] - 1s 8ms/step - loss: 0.6502 - accuracy: 0.7650 - val_loss: 0.6361 - val_accuracy: 0.8190\n",
            "Epoch 6/10\n",
            "100/100 [==============================] - 1s 8ms/step - loss: 0.5657 - accuracy: 0.7934 - val_loss: 0.5590 - val_accuracy: 0.8359\n",
            "Epoch 7/10\n",
            "100/100 [==============================] - 1s 8ms/step - loss: 0.5251 - accuracy: 0.8127 - val_loss: 0.5154 - val_accuracy: 0.8398\n",
            "Epoch 8/10\n",
            "100/100 [==============================] - 1s 7ms/step - loss: 0.4490 - accuracy: 0.8420 - val_loss: 0.5195 - val_accuracy: 0.8359\n",
            "Epoch 9/10\n",
            "100/100 [==============================] - 1s 7ms/step - loss: 0.4258 - accuracy: 0.8534 - val_loss: 0.4948 - val_accuracy: 0.8411\n",
            "Epoch 10/10\n",
            "100/100 [==============================] - 1s 7ms/step - loss: 0.3679 - accuracy: 0.8695 - val_loss: 0.4719 - val_accuracy: 0.8542\n"
          ]
        }
      ],
      "source": [
        "EPOCHS = 10\n",
        "history = model.fit(\n",
        "    train_spectrogram_ds,\n",
        "    validation_data=val_spectrogram_ds,\n",
        "    epochs=EPOCHS,\n",
        "    callbacks=tf.keras.callbacks.EarlyStopping(verbose=1, patience=2),\n",
        ")"
      ]
    },
    {
      "cell_type": "markdown",
      "metadata": {
        "id": "gjpCDeQ4mUfS"
      },
      "source": [
        "Let's plot the training and validation loss curves to check how your model has improved during training:"
      ]
    },
    {
      "cell_type": "code",
      "execution_count": 19,
      "metadata": {
        "id": "nzhipg3Gu2AY",
        "outputId": "4b0181ae-aed7-4c59-ccda-64e9a90ab70b",
        "colab": {
          "base_uri": "https://localhost:8080/",
          "height": 564
        }
      },
      "outputs": [
        {
          "output_type": "execute_result",
          "data": {
            "text/plain": [
              "Text(0, 0.5, 'Accuracy [%]')"
            ]
          },
          "metadata": {},
          "execution_count": 19
        },
        {
          "output_type": "display_data",
          "data": {
            "text/plain": [
              "<Figure size 1600x600 with 2 Axes>"
            ],
            "image/png": "[encoded data removed]"
          },
          "metadata": {}
        }
      ],
      "source": [
        "metrics = history.history\n",
        "plt.figure(figsize=(16,6))\n",
        "plt.subplot(1,2,1)\n",
        "plt.plot(history.epoch, metrics['loss'], metrics['val_loss'])\n",
        "plt.legend(['loss', 'val_loss'])\n",
        "plt.ylim([0, max(plt.ylim())])\n",
        "plt.xlabel('Epoch')\n",
        "plt.ylabel('Loss [CrossEntropy]')\n",
        "\n",
        "plt.subplot(1,2,2)\n",
        "plt.plot(history.epoch, 100*np.array(metrics['accuracy']), 100*np.array(metrics['val_accuracy']))\n",
        "plt.legend(['accuracy', 'val_accuracy'])\n",
        "plt.ylim([0, 100])\n",
        "plt.xlabel('Epoch')\n",
        "plt.ylabel('Accuracy [%]')"
      ]
    },
    {
      "cell_type": "markdown",
      "metadata": {
        "id": "5ZTt3kO3mfm4"
      },
      "source": [
        "## Evaluate the model performance\n",
        "\n",
        "Run the model on the test set and check the model's performance:"
      ]
    },
    {
      "cell_type": "code",
      "execution_count": 20,
      "metadata": {
        "id": "FapuRT_SsWGQ",
        "outputId": "b7519f88-5139-42de-bef1-3de9af15994a",
        "colab": {
          "base_uri": "https://localhost:8080/"
        }
      },
      "outputs": [
        {
          "output_type": "stream",
          "name": "stdout",
          "text": [
            "13/13 [==============================] - 1s 92ms/step - loss: 0.4870 - accuracy: 0.8413\n"
          ]
        },
        {
          "output_type": "execute_result",
          "data": {
            "text/plain": [
              "{'loss': 0.48695108294487, 'accuracy': 0.8413461446762085}"
            ]
          },
          "metadata": {},
          "execution_count": 20
        }
      ],
      "source": [
        "model.evaluate(test_spectrogram_ds, return_dict=True)"
      ]
    },
    {
      "cell_type": "markdown",
      "metadata": {
        "id": "en9Znt1NOabH"
      },
      "source": [
        "### Display a confusion matrix\n",
        "\n",
        "Use a [confusion matrix](https://developers.google.com/machine-learning/glossary#confusion-matrix) to check how well the model did classifying each of the recordings in the test set:\n"
      ]
    },
    {
      "cell_type": "code",
      "execution_count": 21,
      "metadata": {
        "id": "5Y6vmWWQuuT1",
        "outputId": "708ca89c-bafb-45bd-eb64-faa23080c66a",
        "colab": {
          "base_uri": "https://localhost:8080/"
        }
      },
      "outputs": [
        {
          "output_type": "stream",
          "name": "stdout",
          "text": [
            "13/13 [==============================] - 0s 3ms/step\n"
          ]
        }
      ],
      "source": [
        "y_pred = model.predict(test_spectrogram_ds)"
      ]
    },
    {
      "cell_type": "code",
      "execution_count": 22,
      "metadata": {
        "id": "d6F0il82u7lW"
      },
      "outputs": [],
      "source": [
        "y_pred = tf.argmax(y_pred, axis=1)"
      ]
    },
    {
      "cell_type": "code",
      "execution_count": 24,
      "metadata": {
        "id": "vHSNoBYLvX81"
      },
      "outputs": [],
      "source": [
        "y_true = tf.concat(list(test_spectrogram_ds.map(lambda s,lab: lab)), axis=0)"
      ]
    },
    {
      "cell_type": "code",
      "execution_count": 25,
      "metadata": {
        "id": "LvoSAOiXU3lL",
        "outputId": "a1be6332-31e1-45cc-9acf-89684ca864a6",
        "colab": {
          "base_uri": "https://localhost:8080/",
          "height": 696
        }
      },
      "outputs": [
        {
          "output_type": "display_data",
          "data": {
            "text/plain": [
              "<Figure size 1000x800 with 2 Axes>"
            ],
            "image/png": "[encoded data removed]"
          },
          "metadata": {}
        }
      ],
      "source": [
        "confusion_mtx = tf.math.confusion_matrix(y_true, y_pred)\n",
        "plt.figure(figsize=(10, 8))\n",
        "sns.heatmap(confusion_mtx,\n",
        "            xticklabels=label_names,\n",
        "            yticklabels=label_names,\n",
        "            annot=True, fmt='g')\n",
        "plt.xlabel('Prediction')\n",
        "plt.ylabel('Label')\n",
        "plt.show()"
      ]
    },
    {
      "cell_type": "markdown",
      "metadata": {
        "id": "mQGi_mzPcLvl"
      },
      "source": [
        "## Check trained model for sample audio\n",
        "\n",
        "Finally, verify the model's prediction output using an input audio file. How well does your model perform?"
      ]
    },
    {
      "cell_type": "code",
      "source": [
        "#provide link to your sample file\n",
        "#x = data_dir/'go/01bb6a2a_nohash_3.wav'\n",
        "x = data_dir/'right/012c8314_nohash_1.wav'"
      ],
      "metadata": {
        "id": "x4MQiAAlw1kX"
      },
      "execution_count": 32,
      "outputs": []
    },
    {
      "cell_type": "code",
      "execution_count": 33,
      "metadata": {
        "id": "zRxauKMdhofU",
        "outputId": "bf1486d3-6aa5-4799-9ecd-978858d32ae3",
        "colab": {
          "base_uri": "https://localhost:8080/",
          "height": 510
        }
      },
      "outputs": [
        {
          "output_type": "display_data",
          "data": {
            "text/plain": [
              "<Figure size 640x480 with 1 Axes>"
            ],
            "image/png": "[encoded data removed]"
          },
          "metadata": {}
        },
        {
          "output_type": "display_data",
          "data": {
            "text/plain": [
              "<IPython.lib.display.Audio object>"
            ],
            "text/html": [
              "\n",
              "                <audio  controls=\"controls\" >\n",
              "                    <source src=\"data:audio/wav;base64,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\" type=\"audio/wav\" />\n",
              "                    Your browser does not support the audio element.\n",
              "                </audio>\n",
              "              "
            ]
          },
          "metadata": {}
        }
      ],
      "source": [
        "x = tf.io.read_file(str(x))\n",
        "x, sample_rate = tf.audio.decode_wav(x, desired_channels=1, desired_samples=16000,)\n",
        "x = tf.squeeze(x, axis=-1)\n",
        "waveform = x\n",
        "x = get_spectrogram(x)\n",
        "x = x[tf.newaxis,...]\n",
        "\n",
        "prediction = model(x)\n",
        "#x_labels = ['no', 'yes', 'down', 'go', 'left', 'up', 'right', 'stop']\n",
        "x_labels = ['down', 'go', 'left', 'no', 'right', 'stop', 'up', 'yes']\n",
        "plt.bar(x_labels, tf.nn.softmax(prediction[0]))\n",
        "plt.title('Prediction')\n",
        "plt.show()\n",
        "\n",
        "display.display(display.Audio(waveform, rate=16000))"
      ]
    }
  ],
  "metadata": {
    "accelerator": "GPU",
    "colab": {
      "provenance": [],
      "include_colab_link": true
    },
    "kernelspec": {
      "display_name": "Python 3",
      "name": "python3"
    },
    "gpuClass": "standard"
  },
  "nbformat": 4,
  "nbformat_minor": 0
}