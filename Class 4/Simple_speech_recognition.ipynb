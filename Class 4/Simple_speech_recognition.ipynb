{
  "cells": [
    {
      "cell_type": "markdown",
      "metadata": {
        "id": "view-in-github",
        "colab_type": "text"
      },
      "source": [
        "<a href=\"https://colab.research.google.com/github/Dieu2008/GS2DIT/blob/main/Class%204/Simple_speech_recognition.ipynb\" target=\"_parent\"><img src=\"https://colab.research.google.com/assets/colab-badge.svg\" alt=\"Open In Colab\"/></a>"
      ]
    },
    {
      "cell_type": "markdown",
      "source": [
        "Code source: https://colab.research.google.com/github/tensorflow/docs/blob/master/site/en/tutorials/audio/simple_audio.ipynb#scrollTo=wTAg4vsn3oEb"
      ],
      "metadata": {
        "id": "B81jKekEobND"
      }
    },
    {
      "cell_type": "markdown",
      "metadata": {
        "id": "fluF3_oOgkWF"
      },
      "source": [
        "##### Copyright 2020 The TensorFlow Authors."
      ]
    },
    {
      "cell_type": "code",
      "execution_count": 1,
      "metadata": {
        "cellView": "form",
        "id": "AJs7HHFmg1M9"
      },
      "outputs": [],
      "source": [
        "#@title Licensed under the Apache License, Version 2.0 (the \"License\");\n",
        "# you may not use this file except in compliance with the License.\n",
        "# You may obtain a copy of the License at\n",
        "#\n",
        "# https://www.apache.org/licenses/LICENSE-2.0\n",
        "#\n",
        "# Unless required by applicable law or agreed to in writing, software\n",
        "# distributed under the License is distributed on an \"AS IS\" BASIS,\n",
        "# WITHOUT WARRANTIES OR CONDITIONS OF ANY KIND, either express or implied.\n",
        "# See the License for the specific language governing permissions and\n",
        "# limitations under the License."
      ]
    },
    {
      "cell_type": "markdown",
      "metadata": {
        "id": "jYysdyb-CaWM"
      },
      "source": [
        "# Simple audio recognition: Recognizing keywords"
      ]
    },
    {
      "cell_type": "markdown",
      "metadata": {
        "id": "CNbqmZy0gbyE"
      },
      "source": [
        "<table class=\"tfo-notebook-buttons\" align=\"left\">\n",
        "  <td>\n",
        "    <a target=\"_blank\" href=\"https://colab.research.google.com/drive/1Ga0X5AwxcpYIH55vgMxBawa9_tjW7KIL#scrollTo=CNbqmZy0gbyE\">\n",
        "    <img src=\"https://www.tensorflow.org/images/colab_logo_32px.png\" />\n",
        "    Run in Google Colab</a>\n",
        "  </td>\n",
        "</table>"
      ]
    },
    {
      "cell_type": "markdown",
      "metadata": {
        "id": "SPfDNFlb66XF"
      },
      "source": [
        "This tutorial demonstrates how to preprocess audio files in the WAV format and build and train a basic [automatic speech recognition](https://en.wikipedia.org/wiki/Speech_recognition) (ASR) model for recognizing ten different words. You will use a portion of the [Speech Commands dataset](https://www.tensorflow.org/datasets/catalog/speech_commands) ([Warden, 2018](https://arxiv.org/abs/1804.03209)), which contains short (one-second or less) audio clips of commands, such as \"down\", \"go\", \"left\", \"no\", \"right\", \"stop\", \"up\" and \"yes\"."
      ]
    },
    {
      "cell_type": "markdown",
      "metadata": {
        "id": "Go9C3uLL8Izc"
      },
      "source": [
        "## Setup\n",
        "\n",
        "Download and install necessary dependencies"
      ]
    },
    {
      "cell_type": "code",
      "source": [
        "!pip install tensorflow==2.10 tensorflow_datasets\n",
        "!apt install --allow-change-held-packages libcudnn8=8.1.0.77-1+cuda11.2"
      ],
      "metadata": {
        "id": "2tuvqtpIzKXK",
        "outputId": "8ac62680-d494-4ab0-e694-339589de6980",
        "colab": {
          "base_uri": "https://localhost:8080/",
          "height": 1000
        }
      },
      "execution_count": 2,
      "outputs": [
        {
          "output_type": "stream",
          "name": "stdout",
          "text": [
            "Looking in indexes: https://pypi.org/simple, https://us-python.pkg.dev/colab-wheels/public/simple/\n",
            "Collecting tensorflow==2.10\n",
            "  Downloading tensorflow-2.10.0-cp39-cp39-manylinux_2_17_x86_64.manylinux2014_x86_64.whl (578.1 MB)\n",
            "\u001b[2K     \u001b[90m━━━━━━━━━━━━━━━━━━━━━━━━━━━━━━━━━━━━━━━\u001b[0m \u001b[32m578.1/578.1 MB\u001b[0m \u001b[31m2.1 MB/s\u001b[0m eta \u001b[36m0:00:00\u001b[0m\n",
            "\u001b[?25hRequirement already satisfied: tensorflow_datasets in /usr/local/lib/python3.9/dist-packages (4.8.3)\n",
            "Requirement already satisfied: termcolor>=1.1.0 in /usr/local/lib/python3.9/dist-packages (from tensorflow==2.10) (2.2.0)\n",
            "Collecting keras-preprocessing>=1.1.1\n",
            "  Downloading Keras_Preprocessing-1.1.2-py2.py3-none-any.whl (42 kB)\n",
            "\u001b[2K     \u001b[90m━━━━━━━━━━━━━━━━━━━━━━━━━━━━━━━━━━━━━━━━\u001b[0m \u001b[32m42.6/42.6 KB\u001b[0m \u001b[31m4.0 MB/s\u001b[0m eta \u001b[36m0:00:00\u001b[0m\n",
            "\u001b[?25hRequirement already satisfied: grpcio<2.0,>=1.24.3 in /usr/local/lib/python3.9/dist-packages (from tensorflow==2.10) (1.53.0)\n",
            "Requirement already satisfied: wrapt>=1.11.0 in /usr/local/lib/python3.9/dist-packages (from tensorflow==2.10) (1.14.1)\n",
            "Requirement already satisfied: h5py>=2.9.0 in /usr/local/lib/python3.9/dist-packages (from tensorflow==2.10) (3.8.0)\n",
            "Requirement already satisfied: six>=1.12.0 in /usr/local/lib/python3.9/dist-packages (from tensorflow==2.10) (1.16.0)\n",
            "Requirement already satisfied: packaging in /usr/local/lib/python3.9/dist-packages (from tensorflow==2.10) (23.0)\n",
            "Requirement already satisfied: astunparse>=1.6.0 in /usr/local/lib/python3.9/dist-packages (from tensorflow==2.10) (1.6.3)\n",
            "Collecting tensorboard<2.11,>=2.10\n",
            "  Downloading tensorboard-2.10.1-py3-none-any.whl (5.9 MB)\n",
            "\u001b[2K     \u001b[90m━━━━━━━━━━━━━━━━━━━━━━━━━━━━━━━━━━━━━━━━\u001b[0m \u001b[32m5.9/5.9 MB\u001b[0m \u001b[31m49.4 MB/s\u001b[0m eta \u001b[36m0:00:00\u001b[0m\n",
            "\u001b[?25hRequirement already satisfied: numpy>=1.20 in /usr/local/lib/python3.9/dist-packages (from tensorflow==2.10) (1.22.4)\n",
            "Requirement already satisfied: tensorflow-io-gcs-filesystem>=0.23.1 in /usr/local/lib/python3.9/dist-packages (from tensorflow==2.10) (0.32.0)\n",
            "Requirement already satisfied: opt-einsum>=2.3.2 in /usr/local/lib/python3.9/dist-packages (from tensorflow==2.10) (3.3.0)\n",
            "Requirement already satisfied: flatbuffers>=2.0 in /usr/local/lib/python3.9/dist-packages (from tensorflow==2.10) (23.3.3)\n",
            "Requirement already satisfied: gast<=0.4.0,>=0.2.1 in /usr/local/lib/python3.9/dist-packages (from tensorflow==2.10) (0.4.0)\n",
            "Requirement already satisfied: typing-extensions>=3.6.6 in /usr/local/lib/python3.9/dist-packages (from tensorflow==2.10) (4.5.0)\n",
            "Requirement already satisfied: google-pasta>=0.1.1 in /usr/local/lib/python3.9/dist-packages (from tensorflow==2.10) (0.2.0)\n",
            "Requirement already satisfied: absl-py>=1.0.0 in /usr/local/lib/python3.9/dist-packages (from tensorflow==2.10) (1.4.0)\n",
            "Collecting protobuf<3.20,>=3.9.2\n",
            "  Downloading protobuf-3.19.6-cp39-cp39-manylinux_2_17_x86_64.manylinux2014_x86_64.whl (1.1 MB)\n",
            "\u001b[2K     \u001b[90m━━━━━━━━━━━━━━━━━━━━━━━━━━━━━━━━━━━━━━━━\u001b[0m \u001b[32m1.1/1.1 MB\u001b[0m \u001b[31m39.9 MB/s\u001b[0m eta \u001b[36m0:00:00\u001b[0m\n",
            "\u001b[?25hCollecting tensorflow-estimator<2.11,>=2.10.0\n",
            "  Downloading tensorflow_estimator-2.10.0-py2.py3-none-any.whl (438 kB)\n",
            "\u001b[2K     \u001b[90m━━━━━━━━━━━━━━━━━━━━━━━━━━━━━━━━━━━━━━\u001b[0m \u001b[32m438.7/438.7 KB\u001b[0m \u001b[31m43.6 MB/s\u001b[0m eta \u001b[36m0:00:00\u001b[0m\n",
            "\u001b[?25hCollecting keras<2.11,>=2.10.0\n",
            "  Downloading keras-2.10.0-py2.py3-none-any.whl (1.7 MB)\n",
            "\u001b[2K     \u001b[90m━━━━━━━━━━━━━━━━━━━━━━━━━━━━━━━━━━━━━━━━\u001b[0m \u001b[32m1.7/1.7 MB\u001b[0m \u001b[31m93.0 MB/s\u001b[0m eta \u001b[36m0:00:00\u001b[0m\n",
            "\u001b[?25hRequirement already satisfied: setuptools in /usr/local/lib/python3.9/dist-packages (from tensorflow==2.10) (67.6.1)\n",
            "Requirement already satisfied: libclang>=13.0.0 in /usr/local/lib/python3.9/dist-packages (from tensorflow==2.10) (16.0.0)\n",
            "Requirement already satisfied: requests>=2.19.0 in /usr/local/lib/python3.9/dist-packages (from tensorflow_datasets) (2.27.1)\n",
            "Requirement already satisfied: tensorflow-metadata in /usr/local/lib/python3.9/dist-packages (from tensorflow_datasets) (1.12.0)\n",
            "Requirement already satisfied: tqdm in /usr/local/lib/python3.9/dist-packages (from tensorflow_datasets) (4.65.0)\n",
            "Requirement already satisfied: etils[enp,epath]>=0.9.0 in /usr/local/lib/python3.9/dist-packages (from tensorflow_datasets) (1.1.1)\n",
            "Requirement already satisfied: click in /usr/local/lib/python3.9/dist-packages (from tensorflow_datasets) (8.1.3)\n",
            "Requirement already satisfied: dm-tree in /usr/local/lib/python3.9/dist-packages (from tensorflow_datasets) (0.1.8)\n",
            "Requirement already satisfied: promise in /usr/local/lib/python3.9/dist-packages (from tensorflow_datasets) (2.3)\n",
            "Requirement already satisfied: toml in /usr/local/lib/python3.9/dist-packages (from tensorflow_datasets) (0.10.2)\n",
            "Requirement already satisfied: psutil in /usr/local/lib/python3.9/dist-packages (from tensorflow_datasets) (5.9.4)\n",
            "Requirement already satisfied: wheel<1.0,>=0.23.0 in /usr/local/lib/python3.9/dist-packages (from astunparse>=1.6.0->tensorflow==2.10) (0.40.0)\n",
            "Requirement already satisfied: zipp in /usr/local/lib/python3.9/dist-packages (from etils[enp,epath]>=0.9.0->tensorflow_datasets) (3.15.0)\n",
            "Requirement already satisfied: importlib_resources in /usr/local/lib/python3.9/dist-packages (from etils[enp,epath]>=0.9.0->tensorflow_datasets) (5.12.0)\n",
            "Requirement already satisfied: charset-normalizer~=2.0.0 in /usr/local/lib/python3.9/dist-packages (from requests>=2.19.0->tensorflow_datasets) (2.0.12)\n",
            "Requirement already satisfied: certifi>=2017.4.17 in /usr/local/lib/python3.9/dist-packages (from requests>=2.19.0->tensorflow_datasets) (2022.12.7)\n",
            "Requirement already satisfied: idna<4,>=2.5 in /usr/local/lib/python3.9/dist-packages (from requests>=2.19.0->tensorflow_datasets) (3.4)\n",
            "Requirement already satisfied: urllib3<1.27,>=1.21.1 in /usr/local/lib/python3.9/dist-packages (from requests>=2.19.0->tensorflow_datasets) (1.26.15)\n",
            "Requirement already satisfied: tensorboard-plugin-wit>=1.6.0 in /usr/local/lib/python3.9/dist-packages (from tensorboard<2.11,>=2.10->tensorflow==2.10) (1.8.1)\n",
            "Requirement already satisfied: markdown>=2.6.8 in /usr/local/lib/python3.9/dist-packages (from tensorboard<2.11,>=2.10->tensorflow==2.10) (3.4.3)\n",
            "Requirement already satisfied: werkzeug>=1.0.1 in /usr/local/lib/python3.9/dist-packages (from tensorboard<2.11,>=2.10->tensorflow==2.10) (2.2.3)\n",
            "Requirement already satisfied: google-auth-oauthlib<0.5,>=0.4.1 in /usr/local/lib/python3.9/dist-packages (from tensorboard<2.11,>=2.10->tensorflow==2.10) (0.4.6)\n",
            "Requirement already satisfied: google-auth<3,>=1.6.3 in /usr/local/lib/python3.9/dist-packages (from tensorboard<2.11,>=2.10->tensorflow==2.10) (2.17.1)\n",
            "Collecting tensorboard-data-server<0.7.0,>=0.6.0\n",
            "  Downloading tensorboard_data_server-0.6.1-py3-none-manylinux2010_x86_64.whl (4.9 MB)\n",
            "\u001b[2K     \u001b[90m━━━━━━━━━━━━━━━━━━━━━━━━━━━━━━━━━━━━━━━━\u001b[0m \u001b[32m4.9/4.9 MB\u001b[0m \u001b[31m99.9 MB/s\u001b[0m eta \u001b[36m0:00:00\u001b[0m\n",
            "\u001b[?25hRequirement already satisfied: googleapis-common-protos<2,>=1.52.0 in /usr/local/lib/python3.9/dist-packages (from tensorflow-metadata->tensorflow_datasets) (1.59.0)\n",
            "Requirement already satisfied: cachetools<6.0,>=2.0.0 in /usr/local/lib/python3.9/dist-packages (from google-auth<3,>=1.6.3->tensorboard<2.11,>=2.10->tensorflow==2.10) (5.3.0)\n",
            "Requirement already satisfied: rsa<5,>=3.1.4 in /usr/local/lib/python3.9/dist-packages (from google-auth<3,>=1.6.3->tensorboard<2.11,>=2.10->tensorflow==2.10) (4.9)\n",
            "Requirement already satisfied: pyasn1-modules>=0.2.1 in /usr/local/lib/python3.9/dist-packages (from google-auth<3,>=1.6.3->tensorboard<2.11,>=2.10->tensorflow==2.10) (0.2.8)\n",
            "Requirement already satisfied: requests-oauthlib>=0.7.0 in /usr/local/lib/python3.9/dist-packages (from google-auth-oauthlib<0.5,>=0.4.1->tensorboard<2.11,>=2.10->tensorflow==2.10) (1.3.1)\n",
            "Requirement already satisfied: importlib-metadata>=4.4 in /usr/local/lib/python3.9/dist-packages (from markdown>=2.6.8->tensorboard<2.11,>=2.10->tensorflow==2.10) (6.1.0)\n",
            "Requirement already satisfied: MarkupSafe>=2.1.1 in /usr/local/lib/python3.9/dist-packages (from werkzeug>=1.0.1->tensorboard<2.11,>=2.10->tensorflow==2.10) (2.1.2)\n",
            "Requirement already satisfied: pyasn1<0.5.0,>=0.4.6 in /usr/local/lib/python3.9/dist-packages (from pyasn1-modules>=0.2.1->google-auth<3,>=1.6.3->tensorboard<2.11,>=2.10->tensorflow==2.10) (0.4.8)\n",
            "Requirement already satisfied: oauthlib>=3.0.0 in /usr/local/lib/python3.9/dist-packages (from requests-oauthlib>=0.7.0->google-auth-oauthlib<0.5,>=0.4.1->tensorboard<2.11,>=2.10->tensorflow==2.10) (3.2.2)\n",
            "Installing collected packages: keras, tensorflow-estimator, tensorboard-data-server, protobuf, keras-preprocessing, tensorboard, tensorflow\n",
            "  Attempting uninstall: keras\n",
            "    Found existing installation: keras 2.12.0\n",
            "    Uninstalling keras-2.12.0:\n",
            "      Successfully uninstalled keras-2.12.0\n",
            "  Attempting uninstall: tensorflow-estimator\n",
            "    Found existing installation: tensorflow-estimator 2.12.0\n",
            "    Uninstalling tensorflow-estimator-2.12.0:\n",
            "      Successfully uninstalled tensorflow-estimator-2.12.0\n",
            "  Attempting uninstall: tensorboard-data-server\n",
            "    Found existing installation: tensorboard-data-server 0.7.0\n",
            "    Uninstalling tensorboard-data-server-0.7.0:\n",
            "      Successfully uninstalled tensorboard-data-server-0.7.0\n",
            "  Attempting uninstall: protobuf\n",
            "    Found existing installation: protobuf 3.20.3\n",
            "    Uninstalling protobuf-3.20.3:\n",
            "      Successfully uninstalled protobuf-3.20.3\n",
            "  Attempting uninstall: tensorboard\n",
            "    Found existing installation: tensorboard 2.12.0\n",
            "    Uninstalling tensorboard-2.12.0:\n",
            "      Successfully uninstalled tensorboard-2.12.0\n",
            "  Attempting uninstall: tensorflow\n",
            "    Found existing installation: tensorflow 2.12.0\n",
            "    Uninstalling tensorflow-2.12.0:\n",
            "      Successfully uninstalled tensorflow-2.12.0\n",
            "Successfully installed keras-2.10.0 keras-preprocessing-1.1.2 protobuf-3.19.6 tensorboard-2.10.1 tensorboard-data-server-0.6.1 tensorflow-2.10.0 tensorflow-estimator-2.10.0\n"
          ]
        },
        {
          "output_type": "display_data",
          "data": {
            "application/vnd.colab-display-data+json": {
              "pip_warning": {
                "packages": [
                  "google"
                ]
              }
            }
          },
          "metadata": {}
        },
        {
          "output_type": "stream",
          "name": "stdout",
          "text": [
            "Reading package lists... Done\n",
            "Building dependency tree       \n",
            "Reading state information... Done\n",
            "The following package was automatically installed and is no longer required:\n",
            "  libnvidia-common-525\n",
            "Use 'apt autoremove' to remove it.\n",
            "The following packages will be REMOVED:\n",
            "  libcudnn8-dev\n",
            "The following held packages will be changed:\n",
            "  libcudnn8\n",
            "The following packages will be DOWNGRADED:\n",
            "  libcudnn8\n",
            "0 upgraded, 0 newly installed, 1 downgraded, 1 to remove and 21 not upgraded.\n",
            "Need to get 430 MB of archives.\n",
            "After this operation, 1,153 MB disk space will be freed.\n",
            "Get:1 https://developer.download.nvidia.com/compute/cuda/repos/ubuntu2004/x86_64  libcudnn8 8.1.0.77-1+cuda11.2 [430 MB]\n",
            "Fetched 430 MB in 6s (67.0 MB/s)\n",
            "(Reading database ... 128293 files and directories currently installed.)\n",
            "Removing libcudnn8-dev (8.7.0.84-1+cuda11.8) ...\n",
            "update-alternatives: removing manually selected alternative - switching libcudnn to auto mode\n",
            "\u001b[1mdpkg:\u001b[0m \u001b[1;33mwarning:\u001b[0m downgrading libcudnn8 from 8.7.0.84-1+cuda11.8 to 8.1.0.77-1+cuda11.2\n",
            "(Reading database ... 128260 files and directories currently installed.)\n",
            "Preparing to unpack .../libcudnn8_8.1.0.77-1+cuda11.2_amd64.deb ...\n",
            "Unpacking libcudnn8 (8.1.0.77-1+cuda11.2) over (8.7.0.84-1+cuda11.8) ...\n",
            "Setting up libcudnn8 (8.1.0.77-1+cuda11.2) ...\n"
          ]
        }
      ]
    },
    {
      "cell_type": "code",
      "execution_count": 3,
      "metadata": {
        "id": "dzLKpmZICaWN"
      },
      "outputs": [],
      "source": [
        "import os\n",
        "import pathlib\n",
        "\n",
        "import matplotlib.pyplot as plt\n",
        "import numpy as np\n",
        "import seaborn as sns\n",
        "import tensorflow as tf\n",
        "\n",
        "from tensorflow.keras import layers\n",
        "from tensorflow.keras import models\n",
        "from IPython import display\n",
        "\n",
        "# Set the seed value for experiment reproducibility.\n",
        "seed = 42\n",
        "tf.random.set_seed(seed)\n",
        "np.random.seed(seed)"
      ]
    },
    {
      "cell_type": "markdown",
      "metadata": {
        "id": "yR0EdgrLCaWR"
      },
      "source": [
        "## Import the mini Speech Commands dataset\n",
        "\n",
        "To save time with data loading, you will be working with a smaller version of the Speech Commands dataset.\n",
        "Download and extract the `mini_speech_commands.zip` file containing the smaller Speech Commands datasets with `tf.keras.utils.get_file`:"
      ]
    },
    {
      "cell_type": "code",
      "execution_count": 4,
      "metadata": {
        "id": "2-rayb7-3Y0I",
        "outputId": "9b690f0d-3fb1-4cc4-a408-ece89f7a5a55",
        "colab": {
          "base_uri": "https://localhost:8080/"
        }
      },
      "outputs": [
        {
          "output_type": "stream",
          "name": "stdout",
          "text": [
            "Downloading data from http://storage.googleapis.com/download.tensorflow.org/data/mini_speech_commands.zip\n",
            "182082353/182082353 [==============================] - 1s 0us/step\n"
          ]
        }
      ],
      "source": [
        "DATASET_PATH = 'data/mini_speech_commands'\n",
        "\n",
        "data_dir = pathlib.Path(DATASET_PATH)\n",
        "if not data_dir.exists():\n",
        "  tf.keras.utils.get_file(\n",
        "      'mini_speech_commands.zip',\n",
        "      origin=\"http://storage.googleapis.com/download.tensorflow.org/data/mini_speech_commands.zip\",\n",
        "      extract=True,\n",
        "      cache_dir='.', cache_subdir='data')"
      ]
    },
    {
      "cell_type": "markdown",
      "metadata": {
        "id": "BgvFq3uYiS5G"
      },
      "source": [
        "The dataset's audio clips are stored in eight folders corresponding to each speech command: `no`, `yes`, `down`, `go`, `left`, `up`, `right`, and `stop`:"
      ]
    },
    {
      "cell_type": "code",
      "execution_count": 5,
      "metadata": {
        "id": "70IBxSKxA1N9",
        "outputId": "9f6527e2-8fde-4f97-c8ea-1683d9d705a1",
        "colab": {
          "base_uri": "https://localhost:8080/"
        }
      },
      "outputs": [
        {
          "output_type": "stream",
          "name": "stdout",
          "text": [
            "Commands: ['stop' 'up' 'right' 'left' 'no' 'down' 'go' 'yes']\n"
          ]
        }
      ],
      "source": [
        "commands = np.array(tf.io.gfile.listdir(str(data_dir)))\n",
        "commands = commands[(commands != 'README.md') & (commands != '.DS_Store')]\n",
        "print('Commands:', commands)"
      ]
    },
    {
      "cell_type": "markdown",
      "metadata": {
        "id": "TZ7GJjDvHqtt"
      },
      "source": [
        "Now we split the data into train and test datasets.\n",
        "\n",
        "The audio clips are 1 second or less at 16kHz."
      ]
    },
    {
      "cell_type": "code",
      "execution_count": 6,
      "metadata": {
        "id": "mFM4c3aMC8Qv",
        "outputId": "83be7818-b5af-4887-9f2a-00352457a224",
        "colab": {
          "base_uri": "https://localhost:8080/"
        }
      },
      "outputs": [
        {
          "output_type": "stream",
          "name": "stdout",
          "text": [
            "Found 8000 files belonging to 8 classes.\n",
            "Using 6400 files for training.\n",
            "Using 1600 files for validation.\n",
            "\n",
            "label names: ['down' 'go' 'left' 'no' 'right' 'stop' 'up' 'yes']\n"
          ]
        }
      ],
      "source": [
        "train_ds, val_ds = tf.keras.utils.audio_dataset_from_directory(\n",
        "    directory=data_dir,\n",
        "    batch_size=64,\n",
        "    validation_split=0.2,\n",
        "    seed=0,\n",
        "    output_sequence_length=16000,\n",
        "    subset='both')\n",
        "\n",
        "label_names = np.array(train_ds.class_names)\n",
        "print()\n",
        "print(\"label names:\", label_names)"
      ]
    },
    {
      "cell_type": "code",
      "execution_count": 7,
      "metadata": {
        "id": "Xl-tnniUIBlM"
      },
      "outputs": [],
      "source": [
        "def squeeze(audio, labels):\n",
        "  audio = tf.squeeze(audio, axis=-1)\n",
        "  return audio, labels\n",
        "\n",
        "train_ds = train_ds.map(squeeze, tf.data.AUTOTUNE)\n",
        "val_ds = val_ds.map(squeeze, tf.data.AUTOTUNE)"
      ]
    },
    {
      "cell_type": "markdown",
      "metadata": {
        "id": "DtsCSWZN5ILv"
      },
      "source": [
        "We have to split our calidation dataset into val and test set."
      ]
    },
    {
      "cell_type": "code",
      "execution_count": 8,
      "metadata": {
        "id": "u5UEGsqM5Gss"
      },
      "outputs": [],
      "source": [
        "test_ds = val_ds.shard(num_shards=2, index=0)\n",
        "val_ds = val_ds.shard(num_shards=2, index=1)"
      ]
    },
    {
      "cell_type": "code",
      "execution_count": 9,
      "metadata": {
        "id": "xIeoJcwJH5h9",
        "outputId": "4c5b750d-adb0-41f4-e937-f68501cd940d",
        "colab": {
          "base_uri": "https://localhost:8080/"
        }
      },
      "outputs": [
        {
          "output_type": "stream",
          "name": "stdout",
          "text": [
            "(64, 16000)\n",
            "(64,)\n"
          ]
        }
      ],
      "source": [
        "for example_audio, example_labels in train_ds.take(1):  \n",
        "  print(example_audio.shape)\n",
        "  print(example_labels.shape)"
      ]
    },
    {
      "cell_type": "markdown",
      "metadata": {
        "id": "voxGEwvuh2L7"
      },
      "source": [
        "Let's plot a few audio waveforms:"
      ]
    },
    {
      "cell_type": "markdown",
      "metadata": {
        "id": "EWXPphxm0B4m"
      },
      "source": [
        "## Convert waveforms to spectrograms\n",
        "\n",
        "The waveforms in the dataset are represented in the time domain. Next, you'll transform the waveforms from the time-domain signals into the time-frequency-domain signals by computing the [short-time Fourier transform (STFT)](https://en.wikipedia.org/wiki/Short-time_Fourier_transform) to convert the waveforms to as [spectrograms](https://en.wikipedia.org/wiki/Spectrogram), which show frequency changes over time and can be represented as 2D images."
      ]
    },
    {
      "cell_type": "code",
      "execution_count": 10,
      "metadata": {
        "id": "_4CK75DHz_OR"
      },
      "outputs": [],
      "source": [
        "def get_spectrogram(waveform):\n",
        "  # Convert the waveform to a spectrogram via a STFT.\n",
        "  spectrogram = tf.signal.stft(\n",
        "      waveform, frame_length=255, frame_step=128)\n",
        "  # Obtain the magnitude of the STFT.\n",
        "  spectrogram = tf.abs(spectrogram)\n",
        "  # Add a `channels` dimension, so that the spectrogram can be used\n",
        "  # as image-like input data with convolution layers (which expect\n",
        "  # shape (`batch_size`, `height`, `width`, `channels`).\n",
        "  spectrogram = spectrogram[..., tf.newaxis]\n",
        "  return spectrogram"
      ]
    },
    {
      "cell_type": "markdown",
      "metadata": {
        "id": "xnSuqyxJ1isF"
      },
      "source": [
        "Now, define a function for displaying a spectrogram:"
      ]
    },
    {
      "cell_type": "code",
      "execution_count": 11,
      "metadata": {
        "id": "e62jzb36-Jog"
      },
      "outputs": [],
      "source": [
        "#def plot_spectrogram(spectrogram, ax):\n",
        "#  if len(spectrogram.shape) > 2:\n",
        "#    assert len(spectrogram.shape) == 3\n",
        "#    spectrogram = np.squeeze(spectrogram, axis=-1)\n",
        "#  # Convert the frequencies to log scale and transpose, so that the time is\n",
        "#  # represented on the x-axis (columns).\n",
        "#  # Add an epsilon to avoid taking a log of zero.\n",
        "#  log_spec = np.log(spectrogram.T + np.finfo(float).eps)\n",
        "#  height = log_spec.shape[0]\n",
        "#  width = log_spec.shape[1]\n",
        "#  X = np.linspace(0, np.size(spectrogram), num=width, dtype=int)\n",
        "#  Y = range(height)\n",
        "#  ax.pcolormesh(X, Y, log_spec)"
      ]
    },
    {
      "cell_type": "markdown",
      "metadata": {
        "id": "GyYXjW07jCHA"
      },
      "source": [
        "Now, create spectrogramn datasets from the audio datasets:"
      ]
    },
    {
      "cell_type": "code",
      "execution_count": 12,
      "metadata": {
        "id": "mAD0LpkgqtQo"
      },
      "outputs": [],
      "source": [
        "def make_spec_ds(ds):\n",
        "  return ds.map(\n",
        "      map_func=lambda audio,label: (get_spectrogram(audio), label),\n",
        "      num_parallel_calls=tf.data.AUTOTUNE)"
      ]
    },
    {
      "cell_type": "code",
      "execution_count": 13,
      "metadata": {
        "id": "yEVb_oK0oBLQ"
      },
      "outputs": [],
      "source": [
        "train_spectrogram_ds = make_spec_ds(train_ds)\n",
        "val_spectrogram_ds = make_spec_ds(val_ds)\n",
        "test_spectrogram_ds = make_spec_ds(test_ds)"
      ]
    },
    {
      "cell_type": "code",
      "source": [
        "for example_spectrograms, example_spect_labels in train_spectrogram_ds.take(1):\n",
        "  break"
      ],
      "metadata": {
        "id": "Pp8S55hQuGgH"
      },
      "execution_count": 14,
      "outputs": []
    },
    {
      "cell_type": "markdown",
      "metadata": {
        "id": "z5KdY8IF8rkt"
      },
      "source": [
        "## Build and train the model"
      ]
    },
    {
      "cell_type": "code",
      "execution_count": 15,
      "metadata": {
        "id": "fdZ6M-F5_QzY"
      },
      "outputs": [],
      "source": [
        "train_spectrogram_ds = train_spectrogram_ds.cache().shuffle(10000).prefetch(tf.data.AUTOTUNE)\n",
        "val_spectrogram_ds = val_spectrogram_ds.cache().prefetch(tf.data.AUTOTUNE)\n",
        "test_spectrogram_ds = test_spectrogram_ds.cache().prefetch(tf.data.AUTOTUNE)"
      ]
    },
    {
      "cell_type": "markdown",
      "metadata": {
        "id": "rwHkKCQQb5oW"
      },
      "source": [
        "For the model, you'll use a simple convolutional neural network (CNN), since you have transformed the audio files into spectrogram images.\n",
        "\n",
        "Your `tf.keras.Sequential` model will use the following Keras preprocessing layers:\n",
        "\n",
        "- `tf.keras.layers.Resizing`: to downsample the input to enable the model to train faster.\n",
        "- `tf.keras.layers.Normalization`: to normalize each pixel in the image based on its mean and standard deviation."
      ]
    },
    {
      "cell_type": "code",
      "execution_count": 16,
      "metadata": {
        "id": "ALYz7PFCHblP",
        "outputId": "1f46fddc-a46f-43c6-e588-f1f34cebfaae",
        "colab": {
          "base_uri": "https://localhost:8080/"
        }
      },
      "outputs": [
        {
          "output_type": "stream",
          "name": "stdout",
          "text": [
            "Input shape: (124, 129, 1)\n",
            "Model: \"sequential\"\n",
            "_________________________________________________________________\n",
            " Layer (type)                Output Shape              Param #   \n",
            "=================================================================\n",
            " resizing (Resizing)         (None, 32, 32, 1)         0         \n",
            "                                                                 \n",
            " normalization (Normalizatio  (None, 32, 32, 1)        3         \n",
            " n)                                                              \n",
            "                                                                 \n",
            " conv2d (Conv2D)             (None, 30, 30, 32)        320       \n",
            "                                                                 \n",
            " conv2d_1 (Conv2D)           (None, 28, 28, 64)        18496     \n",
            "                                                                 \n",
            " max_pooling2d (MaxPooling2D  (None, 14, 14, 64)       0         \n",
            " )                                                               \n",
            "                                                                 \n",
            " dropout (Dropout)           (None, 14, 14, 64)        0         \n",
            "                                                                 \n",
            " flatten (Flatten)           (None, 12544)             0         \n",
            "                                                                 \n",
            " dense (Dense)               (None, 128)               1605760   \n",
            "                                                                 \n",
            " dropout_1 (Dropout)         (None, 128)               0         \n",
            "                                                                 \n",
            " dense_1 (Dense)             (None, 8)                 1032      \n",
            "                                                                 \n",
            "=================================================================\n",
            "Total params: 1,625,611\n",
            "Trainable params: 1,625,608\n",
            "Non-trainable params: 3\n",
            "_________________________________________________________________\n"
          ]
        }
      ],
      "source": [
        "input_shape = example_spectrograms.shape[1:]\n",
        "print('Input shape:', input_shape)\n",
        "num_labels = len(label_names)\n",
        "\n",
        "# Instantiate the `tf.keras.layers.Normalization` layer.\n",
        "norm_layer = layers.Normalization()\n",
        "# Fit the state of the layer to the spectrograms\n",
        "# with `Normalization.adapt`.\n",
        "norm_layer.adapt(data=train_spectrogram_ds.map(map_func=lambda spec, label: spec))\n",
        "\n",
        "model = models.Sequential([\n",
        "    tf.keras.layers.Input(shape=input_shape),\n",
        "    # Downsample the input.\n",
        "    tf.keras.layers.Resizing(32, 32),\n",
        "    # Normalize.\n",
        "    norm_layer,\n",
        "    tf.keras.layers.Conv2D(32, 3, activation='relu'),\n",
        "    tf.keras.layers.Conv2D(64, 3, activation='relu'),\n",
        "    tf.keras.layers.MaxPooling2D(),\n",
        "    tf.keras.layers.Dropout(0.25),\n",
        "    tf.keras.layers.Flatten(),\n",
        "    tf.keras.layers.Dense(128, activation='relu'),\n",
        "    tf.keras.layers.Dropout(0.5),\n",
        "    tf.keras.layers.Dense(num_labels),\n",
        "])\n",
        "\n",
        "model.summary()"
      ]
    },
    {
      "cell_type": "markdown",
      "metadata": {
        "id": "de52e5afa2f3"
      },
      "source": [
        "Configure the Keras model with the Adam optimizer and the cross-entropy loss:"
      ]
    },
    {
      "cell_type": "code",
      "execution_count": 17,
      "metadata": {
        "id": "wFjj7-EmsTD-"
      },
      "outputs": [],
      "source": [
        "model.compile(\n",
        "    optimizer=tf.keras.optimizers.Adam(),\n",
        "    loss=tf.keras.losses.SparseCategoricalCrossentropy(from_logits=True),\n",
        "    metrics=['accuracy'],\n",
        ")"
      ]
    },
    {
      "cell_type": "markdown",
      "metadata": {
        "id": "f42b9e3a4705"
      },
      "source": [
        "Train the model over 10 epochs for demonstration purposes:"
      ]
    },
    {
      "cell_type": "code",
      "execution_count": 18,
      "metadata": {
        "id": "ttioPJVMcGtq",
        "outputId": "c28a15dc-c9d3-468f-9c11-c7a88a654b3e",
        "colab": {
          "base_uri": "https://localhost:8080/"
        }
      },
      "outputs": [
        {
          "output_type": "stream",
          "name": "stdout",
          "text": [
            "Epoch 1/10\n",
            "100/100 [==============================] - 7s 20ms/step - loss: 1.7746 - accuracy: 0.3514 - val_loss: 1.3636 - val_accuracy: 0.5651\n",
            "Epoch 2/10\n",
            "100/100 [==============================] - 1s 7ms/step - loss: 1.2098 - accuracy: 0.5670 - val_loss: 0.9749 - val_accuracy: 0.7018\n",
            "Epoch 3/10\n",
            "100/100 [==============================] - 1s 8ms/step - loss: 0.9407 - accuracy: 0.6666 - val_loss: 0.7963 - val_accuracy: 0.7539\n",
            "Epoch 4/10\n",
            "100/100 [==============================] - 1s 8ms/step - loss: 0.7652 - accuracy: 0.7286 - val_loss: 0.6929 - val_accuracy: 0.7930\n",
            "Epoch 5/10\n",
            "100/100 [==============================] - 1s 8ms/step - loss: 0.6502 - accuracy: 0.7650 - val_loss: 0.6361 - val_accuracy: 0.8190\n",
            "Epoch 6/10\n",
            "100/100 [==============================] - 1s 8ms/step - loss: 0.5657 - accuracy: 0.7934 - val_loss: 0.5590 - val_accuracy: 0.8359\n",
            "Epoch 7/10\n",
            "100/100 [==============================] - 1s 8ms/step - loss: 0.5251 - accuracy: 0.8127 - val_loss: 0.5154 - val_accuracy: 0.8398\n",
            "Epoch 8/10\n",
            "100/100 [==============================] - 1s 7ms/step - loss: 0.4490 - accuracy: 0.8420 - val_loss: 0.5195 - val_accuracy: 0.8359\n",
            "Epoch 9/10\n",
            "100/100 [==============================] - 1s 7ms/step - loss: 0.4258 - accuracy: 0.8534 - val_loss: 0.4948 - val_accuracy: 0.8411\n",
            "Epoch 10/10\n",
            "100/100 [==============================] - 1s 7ms/step - loss: 0.3679 - accuracy: 0.8695 - val_loss: 0.4719 - val_accuracy: 0.8542\n"
          ]
        }
      ],
      "source": [
        "EPOCHS = 10\n",
        "history = model.fit(\n",
        "    train_spectrogram_ds,\n",
        "    validation_data=val_spectrogram_ds,\n",
        "    epochs=EPOCHS,\n",
        "    callbacks=tf.keras.callbacks.EarlyStopping(verbose=1, patience=2),\n",
        ")"
      ]
    },
    {
      "cell_type": "markdown",
      "metadata": {
        "id": "gjpCDeQ4mUfS"
      },
      "source": [
        "Let's plot the training and validation loss curves to check how your model has improved during training:"
      ]
    },
    {
      "cell_type": "code",
      "execution_count": 19,
      "metadata": {
        "id": "nzhipg3Gu2AY",
        "outputId": "4b0181ae-aed7-4c59-ccda-64e9a90ab70b",
        "colab": {
          "base_uri": "https://localhost:8080/",
          "height": 564
        }
      },
      "outputs": [
        {
          "output_type": "execute_result",
          "data": {
            "text/plain": [
              "Text(0, 0.5, 'Accuracy [%]')"
            ]
          },
          "metadata": {},
          "execution_count": 19
        },
        {
          "output_type": "display_data",
          "data": {
            "text/plain": [
              "<Figure size 1600x600 with 2 Axes>"
            ],
            "image/png": "[encoded data removed]"
          },
          "metadata": {}
        }
      ],
      "source": [
        "metrics = history.history\n",
        "plt.figure(figsize=(16,6))\n",
        "plt.subplot(1,2,1)\n",
        "plt.plot(history.epoch, metrics['loss'], metrics['val_loss'])\n",
        "plt.legend(['loss', 'val_loss'])\n",
        "plt.ylim([0, max(plt.ylim())])\n",
        "plt.xlabel('Epoch')\n",
        "plt.ylabel('Loss [CrossEntropy]')\n",
        "\n",
        "plt.subplot(1,2,2)\n",
        "plt.plot(history.epoch, 100*np.array(metrics['accuracy']), 100*np.array(metrics['val_accuracy']))\n",
        "plt.legend(['accuracy', 'val_accuracy'])\n",
        "plt.ylim([0, 100])\n",
        "plt.xlabel('Epoch')\n",
        "plt.ylabel('Accuracy [%]')"
      ]
    },
    {
      "cell_type": "markdown",
      "metadata": {
        "id": "5ZTt3kO3mfm4"
      },
      "source": [
        "## Evaluate the model performance\n",
        "\n",
        "Run the model on the test set and check the model's performance:"
      ]
    },
    {
      "cell_type": "code",
      "execution_count": 20,
      "metadata": {
        "id": "FapuRT_SsWGQ",
        "outputId": "b7519f88-5139-42de-bef1-3de9af15994a",
        "colab": {
          "base_uri": "https://localhost:8080/"
        }
      },
      "outputs": [
        {
          "output_type": "stream",
          "name": "stdout",
          "text": [
            "13/13 [==============================] - 1s 92ms/step - loss: 0.4870 - accuracy: 0.8413\n"
          ]
        },
        {
          "output_type": "execute_result",
          "data": {
            "text/plain": [
              "{'loss': 0.48695108294487, 'accuracy': 0.8413461446762085}"
            ]
          },
          "metadata": {},
          "execution_count": 20
        }
      ],
      "source": [
        "model.evaluate(test_spectrogram_ds, return_dict=True)"
      ]
    },
    {
      "cell_type": "markdown",
      "metadata": {
        "id": "en9Znt1NOabH"
      },
      "source": [
        "### Display a confusion matrix\n",
        "\n",
        "Use a [confusion matrix](https://developers.google.com/machine-learning/glossary#confusion-matrix) to check how well the model did classifying each of the recordings in the test set:\n"
      ]
    },
    {
      "cell_type": "code",
      "execution_count": 21,
      "metadata": {
        "id": "5Y6vmWWQuuT1",
        "outputId": "708ca89c-bafb-45bd-eb64-faa23080c66a",
        "colab": {
          "base_uri": "https://localhost:8080/"
        }
      },
      "outputs": [
        {
          "output_type": "stream",
          "name": "stdout",
          "text": [
            "13/13 [==============================] - 0s 3ms/step\n"
          ]
        }
      ],
      "source": [
        "y_pred = model.predict(test_spectrogram_ds)"
      ]
    },
    {
      "cell_type": "code",
      "execution_count": 22,
      "metadata": {
        "id": "d6F0il82u7lW"
      },
      "outputs": [],
      "source": [
        "y_pred = tf.argmax(y_pred, axis=1)"
      ]
    },
    {
      "cell_type": "code",
      "execution_count": 24,
      "metadata": {
        "id": "vHSNoBYLvX81"
      },
      "outputs": [],
      "source": [
        "y_true = tf.concat(list(test_spectrogram_ds.map(lambda s,lab: lab)), axis=0)"
      ]
    },
    {
      "cell_type": "code",
      "execution_count": 25,
      "metadata": {
        "id": "LvoSAOiXU3lL",
        "outputId": "a1be6332-31e1-45cc-9acf-89684ca864a6",
        "colab": {
          "base_uri": "https://localhost:8080/",
          "height": 696
        }
      },
      "outputs": [
        {
          "output_type": "display_data",
          "data": {
            "text/plain": [
              "<Figure size 1000x800 with 2 Axes>"
            ],
            "image/png": "[encoded data removed]"
          },
          "metadata": {}
        }
      ],
      "source": [
        "confusion_mtx = tf.math.confusion_matrix(y_true, y_pred)\n",
        "plt.figure(figsize=(10, 8))\n",
        "sns.heatmap(confusion_mtx,\n",
        "            xticklabels=label_names,\n",
        "            yticklabels=label_names,\n",
        "            annot=True, fmt='g')\n",
        "plt.xlabel('Prediction')\n",
        "plt.ylabel('Label')\n",
        "plt.show()"
      ]
    },
    {
      "cell_type": "markdown",
      "metadata": {
        "id": "mQGi_mzPcLvl"
      },
      "source": [
        "## Check trained model for sample audio\n",
        "\n",
        "Finally, verify the model's prediction output using an input audio file. How well does your model perform?"
      ]
    },
    {
      "cell_type": "code",
      "source": [
        "#provide link to your sample file\n",
        "x = data_dir/'go/01bb6a2a_nohash_3.wav'\n",
        "#x = data_dir/'right/012c8314_nohash_1.wav'"
      ],
      "metadata": {
        "id": "x4MQiAAlw1kX"
      },
      "execution_count": 30,
      "outputs": []
    },
    {
      "cell_type": "code",
      "execution_count": 31,
      "metadata": {
        "id": "zRxauKMdhofU",
        "outputId": "4fd42eec-7b9c-405f-f456-36e44b57c1ce",
        "colab": {
          "base_uri": "https://localhost:8080/",
          "height": 510
        }
      },
      "outputs": [
        {
          "output_type": "display_data",
          "data": {
            "text/plain": [
              "<Figure size 640x480 with 1 Axes>"
            ],
            "image/png": "[encoded data removed]"
          },
          "metadata": {}
        },
        {
          "output_type": "display_data",
          "data": {
            "text/plain": [
              "<IPython.lib.display.Audio object>"
            ],
            "text/html": [
              "\n",
              "                <audio  controls=\"controls\" >\n",
              "                    <source src=\"data:audio/wav;base64,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\" type=\"audio/wav\" />\n",
              "                    Your browser does not support the audio element.\n",
              "                </audio>\n",
              "              "
            ]
          },
          "metadata": {}
        }
      ],
      "source": [
        "x = tf.io.read_file(str(x))\n",
        "x, sample_rate = tf.audio.decode_wav(x, desired_channels=1, desired_samples=16000,)\n",
        "x = tf.squeeze(x, axis=-1)\n",
        "waveform = x\n",
        "x = get_spectrogram(x)\n",
        "x = x[tf.newaxis,...]\n",
        "\n",
        "prediction = model(x)\n",
        "#x_labels = ['no', 'yes', 'down', 'go', 'left', 'up', 'right', 'stop']\n",
        "x_labels = ['down', 'go', 'left', 'no', 'right', 'stop', 'up', 'yes']\n",
        "plt.bar(x_labels, tf.nn.softmax(prediction[0]))\n",
        "plt.title('Prediction')\n",
        "plt.show()\n",
        "\n",
        "display.display(display.Audio(waveform, rate=16000))"
      ]
    }
  ],
  "metadata": {
    "accelerator": "GPU",
    "colab": {
      "provenance": [],
      "include_colab_link": true
    },
    "kernelspec": {
      "display_name": "Python 3",
      "name": "python3"
    },
    "gpuClass": "standard"
  },
  "nbformat": 4,
  "nbformat_minor": 0
}