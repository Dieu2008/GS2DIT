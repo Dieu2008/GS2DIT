{
  "nbformat": 4,
  "nbformat_minor": 0,
  "metadata": {
    "colab": {
      "provenance": [],
      "toc_visible": true,
      "authorship_tag": "ABX9TyPYTSmGYXXf2pTzjBjzMY2F",
      "include_colab_link": true
    },
    "kernelspec": {
      "name": "python3",
      "display_name": "Python 3"
    },
    "language_info": {
      "name": "python"
    }
  },
  "cells": [
    {
      "cell_type": "markdown",
      "metadata": {
        "id": "view-in-github",
        "colab_type": "text"
      },
      "source": [
        "<a href=\"https://colab.research.google.com/github/Dieu2008/GS2DIT/blob/main/gs_2d.ipynb\" target=\"_parent\"><img src=\"https://colab.research.google.com/assets/colab-badge.svg\" alt=\"Open In Colab\"/></a>"
      ]
    },
    {
      "cell_type": "code",
      "execution_count": null,
      "metadata": {
        "id": "4bn7MfxzJrmZ"
      },
      "outputs": [],
      "source": []
    },
    {
      "cell_type": "markdown",
      "source": [
        "#Section 1"
      ],
      "metadata": {
        "id": "v5kJ9L6GJ9mb"
      }
    },
    {
      "cell_type": "code",
      "source": [
        "a=1"
      ],
      "metadata": {
        "id": "c37ZnReTLp2G"
      },
      "execution_count": null,
      "outputs": []
    },
    {
      "cell_type": "code",
      "source": [
        "b=2"
      ],
      "metadata": {
        "id": "86TbvbOcLpO-"
      },
      "execution_count": null,
      "outputs": []
    },
    {
      "cell_type": "code",
      "source": [
        "a+b"
      ],
      "metadata": {
        "id": "YP0RQpv8LxO-"
      },
      "execution_count": null,
      "outputs": []
    },
    {
      "cell_type": "markdown",
      "source": [
        "#Section 2"
      ],
      "metadata": {
        "id": "DhQce3ORMDlX"
      }
    },
    {
      "cell_type": "markdown",
      "source": [
        "print(\"**hello world**\")"
      ],
      "metadata": {
        "id": "NfKGxXRUMKrG"
      }
    },
    {
      "cell_type": "markdown",
      "source": [
        "print(\"*hello world*\")"
      ],
      "metadata": {
        "id": "ZNS724d-MXtf"
      }
    },
    {
      "cell_type": "markdown",
      "source": [
        "```print(\"hello world\")```"
      ],
      "metadata": {
        "id": "tPe5kOlHMeRm"
      }
    }
  ]
}